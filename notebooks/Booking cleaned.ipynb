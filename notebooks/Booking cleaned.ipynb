{
 "cells": [
  {
   "cell_type": "markdown",
   "metadata": {},
   "source": [
    "v1.0 2024-08-15 <br>\n",
    "Features added:\n",
    "- Chrome headless implementation\n",
    "- Automatic closing of pop-ups/overlay (x2) when webpage initially loads\n",
    "- Automatic login (email + verification code)\n",
    "- Table layout in .png\n",
    "- Scan through availability of multiple tables during booking (in order of table preference)\n",
    "- GOD mode to book seat for individual time slot (instead of AM/PM bulk booking)\n",
    "- Allow user to set the date range (i.e. start_date & end_date)\n",
    "\n",
    "\n"
   ]
  },
  {
   "cell_type": "code",
   "execution_count": 1,
   "metadata": {
    "ExecuteTime": {
     "end_time": "2024-08-20T08:27:48.245310Z",
     "start_time": "2024-08-20T08:27:48.231906Z"
    }
   },
   "outputs": [],
   "source": [
    "# updated versioning of libraries"
   ]
  },
  {
   "cell_type": "code",
   "execution_count": 2,
   "metadata": {
    "ExecuteTime": {
     "end_time": "2024-08-20T08:27:48.310615Z",
     "start_time": "2024-08-20T08:27:48.283135Z"
    }
   },
   "outputs": [
    {
     "name": "stdout",
     "output_type": "stream",
     "text": [
      "Overwriting requirements.txt\n"
     ]
    }
   ],
   "source": [
    "%%writefile requirements.txt\n",
    "selenium==4.23.1\n",
    "urllib3==2.2.2\n",
    "opencv-python==4.10.0.84\n"
   ]
  },
  {
   "cell_type": "code",
   "execution_count": 92,
   "metadata": {
    "ExecuteTime": {
     "end_time": "2024-08-20T08:27:48.591211Z",
     "start_time": "2024-08-20T08:27:48.327872Z"
    }
   },
   "outputs": [],
   "source": [
    "# updated to include more library (to support delayed clicking of timeslots)\n",
    "\n",
    "from selenium import webdriver\n",
    "from selenium.webdriver.common.keys import Keys\n",
    "from selenium.webdriver.common.keys import Keys\n",
    "from selenium.webdriver.common.by import By\n",
    "import time\n",
    "\n",
    "from selenium.webdriver.support.ui import WebDriverWait\n",
    "from selenium.webdriver.support import expected_conditions as EC\n",
    "from selenium.webdriver.common.action_chains import ActionChains"
   ]
  },
  {
   "cell_type": "markdown",
   "metadata": {},
   "source": [
    "### 1a. Run cell below for nonheadless implementation"
   ]
  },
  {
   "cell_type": "code",
   "execution_count": 48,
   "metadata": {
    "ExecuteTime": {
     "end_time": "2024-08-20T08:27:48.597084Z",
     "start_time": "2024-08-20T08:27:48.593314Z"
    }
   },
   "outputs": [],
   "source": [
    "# updated for Chrome - nonheadless implementation\n",
    "isHeadless = False\n",
    "options = webdriver.ChromeOptions()\n",
    "options.add_argument(\"window-size=1888,888\") # use this window size if running non-headless [to ensure screen is big enough]\n",
    "options.add_argument('--force-device-scale-factor=1') # to ensure that screenshot size matches the viewport size (i.e. no auto-scaling) "
   ]
  },
  {
   "cell_type": "markdown",
   "metadata": {},
   "source": [
    "### 1b. Run cell below for headless implementation"
   ]
  },
  {
   "cell_type": "code",
   "execution_count": 93,
   "metadata": {
    "ExecuteTime": {
     "end_time": "2024-08-20T08:27:48.629726Z",
     "start_time": "2024-08-20T08:27:48.602987Z"
    }
   },
   "outputs": [],
   "source": [
    "# updated for Chrome - headless implementation\n",
    "isHeadless = True\n",
    "options = webdriver.ChromeOptions()\n",
    "options.add_argument(\"--headless=new\")\n",
    "# options.add_argument(\"window-size=1888,836\") # use this window size if running headless in MBA [viewport will be slightly larger relative to window size]\n",
    "options.add_argument(\"window-size=1888,888\") # with the latest chromedriver in MBP, viewport sizes of headless & nonheadless implementation are the same!\n",
    "options.add_argument('--force-device-scale-factor=1') # to ensure that screenshot size matches the viewport size (i.e. no auto-scaling) "
   ]
  },
  {
   "cell_type": "markdown",
   "metadata": {},
   "source": [
    "### 2. Run all cells below:"
   ]
  },
  {
   "cell_type": "code",
   "execution_count": 94,
   "metadata": {
    "ExecuteTime": {
     "end_time": "2024-08-20T08:27:52.076713Z",
     "start_time": "2024-08-20T08:27:48.633784Z"
    }
   },
   "outputs": [],
   "source": [
    "driver = webdriver.Chrome(options=options)\n",
    "driver.get(\"https://google.com/xxx\")"
   ]
  },
  {
   "cell_type": "markdown",
   "metadata": {},
   "source": [
    "#### Function in the cell below to check the window size & viewport size (based on screenshots taken) -- only called at the critical webpage (i.e. seat preference webpage where clicks at precise locations are required)\n",
    "\n",
    "Note the difference in viewport size of nonheadless and headless implementation (despite having the same window size) for MBA. This is not observed for MBP."
   ]
  },
  {
   "cell_type": "code",
   "execution_count": 95,
   "metadata": {},
   "outputs": [],
   "source": [
    "# to check the window size & viewport size (based on screenshots taken)\n",
    "\n",
    "def get_window_viewport_size(driver, isHeadless, table):\n",
    "\n",
    "    import cv2\n",
    "    import os\n",
    "\n",
    "    if isHeadless:\n",
    "        implementation_type = \"headless\"\n",
    "    else:\n",
    "        implementation_type = \"nonheadless\"\n",
    "        \n",
    "    table_num = table\n",
    "        \n",
    "    window_width = driver.get_window_size()[\"width\"]\n",
    "    window_height = driver.get_window_size()[\"height\"]\n",
    "    print(f\"window size: {window_width} x {window_height}\")\n",
    "\n",
    "\n",
    "    driver.get_screenshot_as_file(\"screenshot.png\")\n",
    "    im = cv2.imread(\"screenshot.png\")\n",
    "    viewport_width = im.shape[1]\n",
    "    viewport_height = im.shape[0]\n",
    "    print(f\"viewport size: {viewport_width} x {viewport_height}\")\n",
    "\n",
    "    os.rename(\"screenshot.png\", f\"test-screenshot-{implementation_type}-winsize-{window_width}x{window_height} & view-{viewport_width}x{viewport_height} & booking-table-{table_num}.png\")\n"
   ]
  },
  {
   "cell_type": "code",
   "execution_count": 96,
   "metadata": {
    "ExecuteTime": {
     "end_time": "2024-08-20T08:27:52.130265Z",
     "start_time": "2024-08-20T08:27:52.090984Z"
    }
   },
   "outputs": [],
   "source": [
    "# updated table coordinates\n",
    "# updated to include CONSTANT to support delayed clicking of timeslots\n",
    "\n",
    "# translate month to number\n",
    "month_text2no = {\"January\": 1,\n",
    "                \"February\": 2,\n",
    "                \"March\": 3,\n",
    "                \"April\": 4,\n",
    "                \"May\": 5,\n",
    "                \"June\": 6,\n",
    "                \"July\": 7,\n",
    "                \"August\": 8,\n",
    "                \"September\": 9,\n",
    "                \"October\": 10,\n",
    "                \"November\": 11,\n",
    "                \"December\": 12\n",
    "}\n",
    "shortmonth_text2no = {\"Jan\": 1,\n",
    "                \"Feb\": 2,\n",
    "                \"Mar\": 3,\n",
    "                \"Apr\": 4,\n",
    "                \"May\": 5,\n",
    "                \"Jun\": 6,\n",
    "                \"Jul\": 7,\n",
    "                \"Aug\": 8,\n",
    "                \"Sep\": 9,\n",
    "                \"Oct\": 10,\n",
    "                \"Nov\": 11,\n",
    "                \"Dec\": 12\n",
    "}\n",
    "\n",
    "time_slots = {\n",
    "    'am':[\n",
    "        '09:00 - 09:30',\n",
    "        '09:30 - 10:00',\n",
    "        '10:00 - 10:30',\n",
    "        '10:30 - 11:00',\n",
    "        '11:00 - 11:30',\n",
    "        '11:30 - 12:00',\n",
    "        '12:00 - 12:30',\n",
    "    ],\n",
    "    'pm':[\n",
    "        '14:00 - 14:30',\n",
    "        '14:30 - 15:00',\n",
    "        '15:00 - 15:30',\n",
    "        '15:30 - 16:00',\n",
    "        '16:00 - 16:30',\n",
    "        '16:30 - 17:00',\n",
    "        '17:00 - 17:30',\n",
    "    ]\n",
    "}\n",
    "\n",
    "tables_cood = {\n",
    "    1: [68,162],\n",
    "    2: [68,186],\n",
    "    3: [68,218],\n",
    "    4: [68,247],\n",
    "    5: [145,161],\n",
    "    6: [145,189],\n",
    "    7: [145,216],\n",
    "    8: [145,243],\n",
    "    9: [162,163],\n",
    "    10: [162,187],\n",
    "    11: [162,214],\n",
    "    12: [162,244],\n",
    "    13: [102, 312],\n",
    "    14: [130, 312],\n",
    "    15: [158, 312],\n",
    "    16: [102, 329],\n",
    "#     17:\n",
    "#     18:\n",
    "    19: [260, 257], \n",
    "    20: [288, 257],\n",
    "    21: [316, 257],\n",
    "    22: [280, 326],\n",
    "    23: [297, 326],\n",
    "}\n",
    "\n",
    "\n",
    "DELAY=2\n",
    "LONG_DELAY=40"
   ]
  },
  {
   "cell_type": "markdown",
   "metadata": {},
   "source": [
    "#### Javascript code in the cell below to run in browser console to figure out the coordinates of the seat"
   ]
  },
  {
   "cell_type": "raw",
   "metadata": {
    "vscode": {
     "languageId": "raw"
    }
   },
   "source": [
    "# to obtain the above table coordinates\n",
    "# Javascript code to run in browser console to figure out the coordinates of the seat\n",
    "\n",
    "var canvas = document.querySelector('canvas');\n",
    "canvas.addEventListener('click', function(event) {\n",
    "    var rect = canvas.getBoundingClientRect();\n",
    "    var x = event.clientX - rect.left;\n",
    "    var y = event.clientY - rect.top;\n",
    "    console.log('Clicked coordinates: x=' + x + ', y=' + y);\n",
    "});"
   ]
  },
  {
   "cell_type": "code",
   "execution_count": 97,
   "metadata": {
    "ExecuteTime": {
     "end_time": "2024-08-20T08:27:52.336352Z",
     "start_time": "2024-08-20T08:27:52.135480Z"
    }
   },
   "outputs": [],
   "source": [
    " # updated to include end_date as input for function for added flexibility\n",
    "\n",
    "from datetime import datetime, timedelta\n",
    "\n",
    "def get_booking_dates(start_date, end_date):\n",
    "    # Define the start date and the end date   \n",
    "    start_date = datetime.strptime(start_date, \"%b %d, %Y\")\n",
    "    end_date = datetime.strptime(end_date, \"%b %d, %Y\")\n",
    "\n",
    "    # Initialize the current date to start date\n",
    "    current_date = start_date\n",
    "\n",
    "    # Initialize a list to store the dates\n",
    "    booking_dates = []\n",
    "\n",
    "    # Iterate over the dates from start to end\n",
    "    while current_date <= end_date:\n",
    "        # Get the weekday (0 is Monday, 1 is Tuesday, 2 is Wednesday)\n",
    "        if current_date.weekday() <= 2:  # Monday, Tuesday, or Wednesday\n",
    "            # Append the date in the specified format\n",
    "            booking_dates.append(current_date.strftime(\"%b %-d, %Y\"))\n",
    "        # Move to the next day\n",
    "        current_date += timedelta(days=1)\n",
    "\n",
    "    return booking_dates\n"
   ]
  },
  {
   "cell_type": "code",
   "execution_count": 98,
   "metadata": {
    "ExecuteTime": {
     "end_time": "2024-08-20T08:27:52.396177Z",
     "start_time": "2024-08-20T08:27:52.343179Z"
    }
   },
   "outputs": [],
   "source": [
    " # updated to include function to detect if seat is selected \n",
    "\n",
    "def check_seat_selection(driver):\n",
    "    \n",
    "    try:\n",
    "        driver.find_element(By.XPATH,'//div[contains(text(), \"Selected Seat\")]')\n",
    "        has_selected_seat = True\n",
    "        \n",
    "    except: \n",
    "        has_selected_seat = False\n",
    "        \n",
    "    return has_selected_seat"
   ]
  },
  {
   "cell_type": "code",
   "execution_count": 99,
   "metadata": {
    "ExecuteTime": {
     "end_time": "2024-08-20T08:27:58.731608Z",
     "start_time": "2024-08-20T08:27:52.409559Z"
    },
    "scrolled": true
   },
   "outputs": [],
   "source": [
    "# updated to automate closing of pop-ups/overlay (x2) when webpage initially loads\n",
    "# longer allowable delay to let website load fully\n",
    "\n",
    "time.sleep(6)\n",
    "\n",
    "# close_button1 = WebDriverWait(driver, LONG_DELAY).until(EC.presence_of_element_located((By.CSS_SELECTOR, \"path[d='M30.7458 21.4295C31.0702 21.105 31.0702 20.579 30.7458 20.2545C30.4213 19.93 29.8952 19.93 29.5708 20.2545L25.4999 24.3253L21.4291 20.2545C21.1046 19.93 20.5786 19.93 20.2541 20.2545C19.9296 20.579 19.9296 21.105 20.2541 21.4295L24.3249 25.5003L20.2541 29.5712C19.9296 29.8956 19.9296 30.4217 20.2541 30.7462C20.5786 31.0706 21.1046 31.0706 21.4291 30.7462L25.4999 26.6753L29.5708 30.7462C29.8952 31.0706 30.4213 31.0706 30.7458 30.7462C31.0702 30.4217 31.0702 29.8956 30.7458 29.5712L26.6749 25.5003L30.7458 21.4295Z']\")))\n",
    "# close_button1.click()\n",
    "\n",
    "close_button2 = WebDriverWait(driver, LONG_DELAY).until(EC.presence_of_element_located((By.XPATH, f\"//button[contains(text(), 'Got it!')]\")))\n",
    "close_button2.click()\n"
   ]
  },
  {
   "cell_type": "code",
   "execution_count": 100,
   "metadata": {
    "ExecuteTime": {
     "end_time": "2024-08-20T08:28:27.649461Z",
     "start_time": "2024-08-20T08:27:58.735160Z"
    }
   },
   "outputs": [],
   "source": [
    "# updated to automate login (email + verification code)\n",
    "# longer allowable delay to let website load fully\n",
    "\n",
    "login_button = WebDriverWait(driver, LONG_DELAY).until(EC.presence_of_element_located((By.XPATH, \"//div[contains(text(), 'Log In')]\")))\n",
    "action = ActionChains(driver).move_to_element(login_button).click()\n",
    "action.perform()\n",
    "\n",
    "# login page (email only)\n",
    "email = input(\"Enter your xxx email address: \")\n",
    "email_field = WebDriverWait(driver, LONG_DELAY).until(EC.presence_of_element_located((By.NAME, \"loginfmt\")))\n",
    "email_field.send_keys(email)\n",
    "next_button = WebDriverWait(driver, LONG_DELAY).until(EC.presence_of_element_located((By.ID, \"idSIButton9\")))\n",
    "next_button.click()\n",
    "\n",
    "# main login page (email + verification code)\n",
    "vcode = input(\"Enter your verification code: \")\n",
    "vcode_field = WebDriverWait(driver, LONG_DELAY).until(EC.presence_of_element_located((By.NAME, \"VerificationCode\")))\n",
    "vcode_field.send_keys(vcode)\n",
    "sign_in_button = WebDriverWait(driver, LONG_DELAY).until(EC.presence_of_element_located((By.NAME, \"SignIn\")))\n",
    "sign_in_button.click()\n"
   ]
  },
  {
   "cell_type": "code",
   "execution_count": 101,
   "metadata": {
    "ExecuteTime": {
     "end_time": "2024-08-20T08:30:10.072333Z",
     "start_time": "2024-08-20T08:28:27.698012Z"
    }
   },
   "outputs": [
    {
     "name": "stdout",
     "output_type": "stream",
     "text": [
      "window size: 1888 x 888\n",
      "viewport size: 1888 x 749\n",
      "Booking table 16 on Nov 27, 2024, am successfully\n",
      "window size: 1888 x 888\n",
      "viewport size: 1888 x 749\n",
      "Booking table 16 on Nov 27, 2024, pm successfully\n",
      "DONE!\n"
     ]
    }
   ],
   "source": [
    "#TRIAL INPUT:\n",
    "# table_pref = [1,2]\n",
    "# startdate = Sep 18, 2024 (Wed)\n",
    "# end_date = Sep 18, 2024 (Wed)\n",
    "# is_god_mode = N\n",
    "\n",
    "# updated table input to table_preference input\n",
    "# updated to include for-loop to scan through all tables (in order of table preference)\n",
    "# updated to include GOD mode to book seat for ALL individual time slot (instead of AM/PM bulk booking)\n",
    "# updated to include support for delayed clicking of timeslots (\"time_slots\")\n",
    "\n",
    "table_pref = input(\"Enter the table number you want to book in order of preference, in this format [1,2,3,4,5]: \")\n",
    "startdate = input(\"Enter booking start date in this format Apr 1, 2024: \")\n",
    "end_date = input(\"Enter booking end date in this format Apr 1, 2024: \")\n",
    "is_god_mode = input(\"Activate GOD mode? [Y/N]: \")\n",
    "\n",
    "table_pref = [int(table_num) for table_num in table_pref[1:-1].split(\",\")]\n",
    "booking_dates = get_booking_dates(startdate, end_date)\n",
    "\n",
    "is_god_mode = is_god_mode.strip()[0].upper()\n",
    "if is_god_mode == 'Y':\n",
    "    time_slots['am'] = ['08:30 - 09:00'] \\\n",
    "                        + time_slots['am'] \\\n",
    "                        + ['12:30 - 13:00',\n",
    "                          '13:00 - 13:30',\n",
    "                          '13:30 - 14:00',\n",
    "                          ]\n",
    "    time_slots['pm'] = time_slots['pm'] \\\n",
    "                        + ['17:30 - 18:00',\n",
    "                          '18:00 - 18:30',\n",
    "                          ]\n",
    "    \n",
    "failed_dates = []\n",
    "for date in booking_dates[:]:\n",
    "    for ampm in ['am', 'pm']:\n",
    "        if is_god_mode == 'Y':\n",
    "            for time_slot in time_slots[ampm]:\n",
    "                target_date = date\n",
    "                target_mth = shortmonth_text2no[target_date[:3]]\n",
    "\n",
    "                driver.get(\"https://google.com/xxx/Book-a-Space\")\n",
    "                time.sleep(1)\n",
    "                # click on Do some quiet work\n",
    "                driver.find_element(By.CSS_SELECTOR,'button[id=\"Do some quiet work\"]').send_keys(Keys.RETURN)\n",
    "                time.sleep(1)\n",
    "                # click on Next\n",
    "                driver.find_element(By.CSS_SELECTOR,'button[class*=\"w-full h-full py-4 px-5 txt-MontserratExtraBold\"]').send_keys(Keys.RETURN)\n",
    "                time.sleep(1)\n",
    "                # check current default month\n",
    "                current_month = driver.find_element(By.CSS_SELECTOR,'div[class*=\"css-1v994a0\"]').text\n",
    "                month_text2no[current_month]\n",
    "                time.sleep(0.5)\n",
    "\n",
    "                # press the next month button depending on how many times it is away from our target_mth\n",
    "                for i in range(target_mth-month_text2no[current_month]):\n",
    "                    driver.find_element(By.CSS_SELECTOR,'button[title=\"Next month\"]').send_keys(Keys.RETURN)\n",
    "                time.sleep(0.75)\n",
    "\n",
    "                try:\n",
    "                    # press the date\n",
    "                    driver.find_element(By.CSS_SELECTOR,f'button[aria-label=\"{target_date}\"]').send_keys(Keys.RETURN)\n",
    "                    time.sleep(0.5)\n",
    "\n",
    "                    # click on Next\n",
    "                    driver.find_element(By.CSS_SELECTOR,'button[class*=\"w-full h-full py-4 px-5 txt-MontserratExtraBold\"]').send_keys(Keys.RETURN)\n",
    "                    time.sleep(0.5)\n",
    "\n",
    "                    # Select individual time slot\n",
    "                    selected_time_slot = WebDriverWait(driver, DELAY).until(EC.element_to_be_clickable((By.XPATH, f\"//button[contains(text(), '{time_slot}')]\")))\n",
    "                    driver.execute_script(\"arguments[0].scrollIntoView();\", selected_time_slot)\n",
    "                    selected_time_slot.send_keys(Keys.RETURN)\n",
    "\n",
    "                    # click on Next\n",
    "                    driver.find_element(By.CSS_SELECTOR,'button[class*=\"w-full h-full py-4 px-5 txt-MontserratExtraBold\"]').send_keys(Keys.RETURN)\n",
    "                    time.sleep(1.5)\n",
    "\n",
    "                    # try selecting seat\n",
    "                    for table in table_pref:\n",
    "                        try:\n",
    "                            js_script = f\"\"\"\n",
    "                            var stage = Konva.stages[0];  // Get the first Konva Stage\n",
    "\n",
    "                            // Get the shape at the current position\n",
    "                            var shape = stage.getIntersection({{x: {tables_cood[table][0]}, y: {tables_cood[table][1]}}});\n",
    "\n",
    "                            if (shape) {{\n",
    "                                // Simulate a click on the shape\n",
    "                                shape.fire('click');\n",
    "                                // return \"Clicked at (\" + 160 + \", \" + 380 + \")\";\n",
    "                            }}\n",
    "                            \"\"\"\n",
    "                            output = driver.execute_script(js_script)\n",
    "                            time.sleep(1)\n",
    "                            \n",
    "                            has_selected_seat = check_seat_selection(driver)\n",
    "                            if (has_selected_seat):\n",
    "                                # click on Book\n",
    "                                driver.find_element(By.CSS_SELECTOR,'button[class*=\"w-full h-full py-4 px-5 txt-MontserratExtraBold\"]').send_keys(Keys.RETURN)\n",
    "                                time.sleep(1)\n",
    "\n",
    "                                # Confirm booking by clicking on the 2nd button\n",
    "                                # driver.get_screenshot_as_file(\"screenshot0.png\")\n",
    "                                confirm_booking_button = WebDriverWait(driver, DELAY).until(EC.presence_of_element_located((By.XPATH, \"//button[contains(text(), 'Confirm and Book')]\")))\n",
    "                                confirm_booking_button.click()\n",
    "                                time.sleep(1)\n",
    "\n",
    "                                # confirm\n",
    "                                driver.find_elements(By.CSS_SELECTOR,'button[class*=\"w-full h-full py-4 px-5 txt-MontserratExtraBold\"]')[1].send_keys(Keys.RETURN)\n",
    "                                time.sleep(1)\n",
    "                                print(f\"Booking table {table} on {target_date}, {time_slot}{ampm} successfully\")\n",
    "                                break # remove break if wish to book ALL tables in table_pref\n",
    "                            else:\n",
    "                                print(f\"Unable to book for {target_date}, {time_slot}{ampm}. Table {table} not available for booking\")\n",
    "                                failed_dates.append(target_date + ' ' + time_slot + ' ' + ampm)\n",
    "                                \n",
    "                        except:\n",
    "                            print(f\"Unable to book for {target_date}, {time_slot}{ampm}. Table {table} not available for booking\")\n",
    "                            failed_dates.append(target_date + ' ' + time_slot + ' ' + ampm)\n",
    "\n",
    "                except:\n",
    "                    print(f\"Unable to book for {target_date}, {time_slot}{ampm}. Date not available for booking.\")\n",
    "                    failed_dates.append(target_date + ' ' + time_slot + ' ' + ampm)\n",
    "                    pass\n",
    "                \n",
    "        elif is_god_mode == 'N':\n",
    "            target_date = date\n",
    "            target_mth = shortmonth_text2no[target_date[:3]]\n",
    "\n",
    "            driver.get(\"https://google.com/xxx/Book-a-Space\")\n",
    "            time.sleep(1)\n",
    "            # click on Do some quiet work\n",
    "            driver.find_element(By.CSS_SELECTOR,'button[id=\"Do some quiet work\"]').send_keys(Keys.RETURN)\n",
    "            time.sleep(1)\n",
    "            # click on Next\n",
    "            driver.find_element(By.CSS_SELECTOR,'button[class*=\"w-full h-full py-4 px-5 txt-MontserratExtraBold\"]').send_keys(Keys.RETURN)\n",
    "            time.sleep(1)\n",
    "            # check current default month\n",
    "            current_month = driver.find_element(By.CSS_SELECTOR,'div[class*=\"css-1v994a0\"]').text\n",
    "            month_text2no[current_month]\n",
    "            time.sleep(0.5)\n",
    "\n",
    "            # press the next month button depending on how many times it is away from our target_mth\n",
    "            for i in range(target_mth-month_text2no[current_month]):\n",
    "                driver.find_element(By.CSS_SELECTOR,'button[title=\"Next month\"]').send_keys(Keys.RETURN)\n",
    "            time.sleep(0.75)\n",
    "\n",
    "            try:\n",
    "                # press the date\n",
    "                driver.find_element(By.CSS_SELECTOR,f'button[aria-label=\"{target_date}\"]').send_keys(Keys.RETURN)\n",
    "                time.sleep(0.5)\n",
    "\n",
    "                # click on Next\n",
    "                driver.find_element(By.CSS_SELECTOR,'button[class*=\"w-full h-full py-4 px-5 txt-MontserratExtraBold\"]').send_keys(Keys.RETURN)\n",
    "                time.sleep(0.5)\n",
    "\n",
    "                # Select AM or PM time slot. \n",
    "                for time_slot in time_slots[ampm]:\n",
    "                    selected_time_slot = WebDriverWait(driver, DELAY).until(EC.element_to_be_clickable((By.XPATH, f\"//button[contains(text(), '{time_slot}')]\")))\n",
    "                    driver.execute_script(\"arguments[0].scrollIntoView();\", selected_time_slot)\n",
    "                    selected_time_slot.send_keys(Keys.RETURN)\n",
    "\n",
    "                # click on Next\n",
    "                driver.find_element(By.CSS_SELECTOR,'button[class*=\"w-full h-full py-4 px-5 txt-MontserratExtraBold\"]').send_keys(Keys.RETURN)\n",
    "                time.sleep(1.5)\n",
    "\n",
    "                # try selecting seat\n",
    "                for table in table_pref:\n",
    "                    try:\n",
    "                        js_script = f\"\"\"\n",
    "                        var stage = Konva.stages[0];  // Get the first Konva Stage\n",
    "\n",
    "                        // Get the shape at the current position\n",
    "                        var shape = stage.getIntersection({{x: {tables_cood[table][0]}, y: {tables_cood[table][1]}}});\n",
    "\n",
    "                        if (shape) {{\n",
    "                            // Simulate a click on the shape\n",
    "                            shape.fire('click');\n",
    "                            // return \"Clicked at (\" + 160 + \", \" + 380 + \")\";\n",
    "                        }}\n",
    "                        \"\"\"\n",
    "                        output = driver.execute_script(js_script)\n",
    "                        time.sleep(1)\n",
    "                        \n",
    "                        has_selected_seat = check_seat_selection(driver)\n",
    "                        get_window_viewport_size(driver, isHeadless, table)\n",
    "                        \n",
    "                        if (has_selected_seat):\n",
    "                            # click on Book\n",
    "                            driver.find_element(By.CSS_SELECTOR,'button[class*=\"w-full h-full py-4 px-5 txt-MontserratExtraBold\"]').send_keys(Keys.RETURN)\n",
    "                            time.sleep(1)\n",
    "\n",
    "                            # Confirm booking by clicking on the 2nd button\n",
    "                            # driver.get_screenshot_as_file(\"screenshot0.png\")\n",
    "                            confirm_booking_button = WebDriverWait(driver, DELAY).until(EC.presence_of_element_located((By.XPATH, \"//button[contains(text(), 'Confirm and Book')]\")))\n",
    "                            confirm_booking_button.click()\n",
    "                            time.sleep(1)\n",
    "\n",
    "                            # confirm\n",
    "                            driver.find_elements(By.CSS_SELECTOR,'button[class*=\"w-full h-full py-4 px-5 txt-MontserratExtraBold\"]')[1].send_keys(Keys.RETURN)\n",
    "                            time.sleep(1)\n",
    "                            print(f\"Booking table {table} on {target_date}, {ampm} successfully\")\n",
    "                            break # remove break if wish to book ALL tables in table_pref\n",
    "                        else:\n",
    "                            print(f\"Unable to book for {target_date}, {ampm}. Table {table} not available for booking\")\n",
    "                            failed_dates.append(target_date + ' ' + ampm)\n",
    "                    except:\n",
    "                        print(f\"Unable to book for {target_date}, {ampm}. Table {table} not available for booking\")\n",
    "                        failed_dates.append(target_date + ' ' + ampm)\n",
    "\n",
    "            except:\n",
    "                print(f\"Unable to book for {target_date}, {ampm}. Date not available for booking.\")\n",
    "                failed_dates.append(target_date + ' ' + ampm)\n",
    "                pass\n",
    "\n",
    "\n",
    "print(\"DONE!\")"
   ]
  },
  {
   "cell_type": "code",
   "execution_count": 102,
   "metadata": {
    "ExecuteTime": {
     "end_time": "2024-08-20T08:30:10.439149Z",
     "start_time": "2024-08-20T08:30:10.079746Z"
    }
   },
   "outputs": [],
   "source": [
    "driver.quit()"
   ]
  },
  {
   "cell_type": "code",
   "execution_count": null,
   "metadata": {},
   "outputs": [],
   "source": []
  }
 ],
 "metadata": {
  "kernelspec": {
   "display_name": ".venv",
   "language": "python",
   "name": "python3"
  },
  "language_info": {
   "codemirror_mode": {
    "name": "ipython",
    "version": 3
   },
   "file_extension": ".py",
   "mimetype": "text/x-python",
   "name": "python",
   "nbconvert_exporter": "python",
   "pygments_lexer": "ipython3",
   "version": "3.11.3"
  },
  "varInspector": {
   "cols": {
    "lenName": 16,
    "lenType": 16,
    "lenVar": 40
   },
   "kernels_config": {
    "python": {
     "delete_cmd_postfix": "",
     "delete_cmd_prefix": "del ",
     "library": "var_list.py",
     "varRefreshCmd": "print(var_dic_list())"
    },
    "r": {
     "delete_cmd_postfix": ") ",
     "delete_cmd_prefix": "rm(",
     "library": "var_list.r",
     "varRefreshCmd": "cat(var_dic_list()) "
    }
   },
   "types_to_exclude": [
    "module",
    "function",
    "builtin_function_or_method",
    "instance",
    "_Feature"
   ],
   "window_display": false
  }
 },
 "nbformat": 4,
 "nbformat_minor": 2
}
