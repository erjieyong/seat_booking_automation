{
 "cells": [
  {
   "cell_type": "code",
   "execution_count": 16,
   "metadata": {},
   "outputs": [
    {
     "name": "stdout",
     "output_type": "stream",
     "text": [
      "Writing requirements.txt\n"
     ]
    }
   ],
   "source": [
    "%%writefile requirements.txt\n",
    "selenium==3.141.0 \n",
    "urllib3==1.26.16"
   ]
  },
  {
   "cell_type": "code",
   "execution_count": 4,
   "metadata": {},
   "outputs": [],
   "source": [
    "from selenium import webdriver\n",
    "from selenium.webdriver.common.keys import Keys\n",
    "from selenium.webdriver.common.keys import Keys\n",
    "from selenium.webdriver.common.by import By\n",
    "import time"
   ]
  },
  {
   "cell_type": "code",
   "execution_count": 6,
   "metadata": {},
   "outputs": [],
   "source": [
    "edge_options = {\n",
    "    \"executable_path\": \"./msedgedriver\",\n",
    "    # ofcourse change path to driver you downloaded.\n",
    "    \"capabilities\": {\n",
    "        \"platformName\": 'mac os x', # I get this from Chrome driver's capabilities\n",
    "        # \"os\" : \"OS X\", # also ok.\n",
    "    }\n",
    "}\n",
    "driver = webdriver.Edge(**edge_options)"
   ]
  },
  {
   "cell_type": "code",
   "execution_count": 7,
   "metadata": {},
   "outputs": [],
   "source": [
    "driver.get(\"https://xxx.com/\")"
   ]
  },
  {
   "attachments": {},
   "cell_type": "markdown",
   "metadata": {},
   "source": [
    "# log in manually into the profile"
   ]
  },
  {
   "cell_type": "markdown",
   "metadata": {
    "vscode": {
     "languageId": "plaintext"
    }
   },
   "source": [
    "## Javascript code to run in browser console to figure out the coordinates of the seat"
   ]
  },
  {
   "cell_type": "code",
   "execution_count": null,
   "metadata": {
    "vscode": {
     "languageId": "plaintext"
    }
   },
   "outputs": [],
   "source": [
    "var canvas = document.querySelector('canvas');\n",
    "canvas.addEventListener('click', function(event) {\n",
    "    var rect = canvas.getBoundingClientRect();\n",
    "    var x = event.clientX - rect.left;\n",
    "    var y = event.clientY - rect.top;\n",
    "    console.log('Clicked coordinates: x=' + x + ', y=' + y);\n",
    "});"
   ]
  },
  {
   "cell_type": "code",
   "execution_count": 8,
   "metadata": {},
   "outputs": [],
   "source": [
    "# translate month to number\n",
    "month_text2no = {\"January\": 1,\n",
    "                \"February\": 2,\n",
    "                \"March\": 3,\n",
    "                \"April\": 4,\n",
    "                \"May\": 5,\n",
    "                \"June\": 6,\n",
    "                \"July\": 7,\n",
    "                \"August\": 8,\n",
    "                \"September\": 9,\n",
    "                \"October\": 10,\n",
    "                \"November\": 11,\n",
    "                \"December\": 12\n",
    "}\n",
    "shortmonth_text2no = {\"Jan\": 1,\n",
    "                \"Feb\": 2,\n",
    "                \"Mar\": 3,\n",
    "                \"Apr\": 4,\n",
    "                \"May\": 5,\n",
    "                \"Jun\": 6,\n",
    "                \"Jul\": 7,\n",
    "                \"Aug\": 8,\n",
    "                \"Sep\": 9,\n",
    "                \"Oct\": 10,\n",
    "                \"Nov\": 11,\n",
    "                \"Dec\": 12\n",
    "}\n",
    "\n",
    "time_slots = {\n",
    "    'am':[\n",
    "        '09:00 - 09:30',\n",
    "        '09:30 - 10:00',\n",
    "        '10:00 - 10:30',\n",
    "        '10:30 - 11:00',\n",
    "        '11:00 - 11:30',\n",
    "        '11:30 - 12:00',\n",
    "        '12:00 - 12:30',\n",
    "        '12:30 - 13:00',\n",
    "    ],\n",
    "    'pm':[\n",
    "        '14:00 - 14:30',\n",
    "        '14:30 - 15:00',\n",
    "        '15:00 - 15:30',\n",
    "        '15:30 - 16:00',\n",
    "        '16:00 - 16:30',\n",
    "        '16:30 - 17:00',\n",
    "        '17:00 - 17:30',\n",
    "    ]\n",
    "}\n",
    "tables_cood = {\n",
    "    5: [180,208],\n",
    "    8: [186,324],\n",
    "    9: [207,207],\n",
    "    12: [216,327],\n",
    "    13: [128, 393], # my seat\n",
    "    14: [172, 413],\n",
    "    15: [189, 380],\n",
    "    16: [136, 440], # yy\n",
    "    20: [380, 350],\n",
    "    22: [370, 432],\n",
    "    23: [396, 432],\n",
    "}"
   ]
  },
  {
   "cell_type": "markdown",
   "metadata": {},
   "source": [
    "# Run the following\n",
    "- After you have log into the website manually\n",
    "- After you have confirmed the coordinates of the seats"
   ]
  },
  {
   "cell_type": "code",
   "execution_count": 9,
   "metadata": {},
   "outputs": [],
   "source": [
    "from datetime import datetime, timedelta\n",
    "\n",
    "def get_booking_dates(start_date):\n",
    "    # Define the start date and the end date (3 months from the start date)\n",
    "    start_date = datetime.strptime(start_date, \"%b %d, %Y\")\n",
    "    end_date = start_date + timedelta(days=3*30)  # Approximation for 3 months\n",
    "\n",
    "    # Initialize the current date to start date\n",
    "    current_date = start_date\n",
    "\n",
    "    # Initialize a list to store the dates\n",
    "    booking_dates = []\n",
    "\n",
    "    # Iterate over the dates from start to end\n",
    "    while current_date <= end_date:\n",
    "        # Get the weekday (0 is Monday, 1 is Tuesday, 2 is Wednesday)\n",
    "        if current_date.weekday() <= 2:  # Monday, Tuesday, or Wednesday\n",
    "            # Append the date in the specified format\n",
    "            booking_dates.append(current_date.strftime(\"%b %-d, %Y\"))\n",
    "        # Move to the next day\n",
    "        current_date += timedelta(days=1)\n",
    "\n",
    "    return booking_dates\n"
   ]
  },
  {
   "cell_type": "code",
   "execution_count": 10,
   "metadata": {},
   "outputs": [
    {
     "name": "stdout",
     "output_type": "stream",
     "text": [
      "Unable to book for Oct 1, 2024, am. Table 13 not available for booking\n",
      "Unable to book for Oct 1, 2024, pm. Table 13 not available for booking\n",
      "Booking table 13 on Oct 2, 2024, am successfully\n",
      "Booking table 13 on Oct 2, 2024, pm successfully\n",
      "Booking table 13 on Oct 7, 2024, am successfully\n",
      "Booking table 13 on Oct 7, 2024, pm successfully\n",
      "Booking table 13 on Oct 8, 2024, am successfully\n",
      "Booking table 13 on Oct 8, 2024, pm successfully\n",
      "Booking table 13 on Oct 9, 2024, am successfully\n",
      "Booking table 13 on Oct 9, 2024, pm successfully\n",
      "Booking table 13 on Oct 14, 2024, am successfully\n",
      "Booking table 13 on Oct 14, 2024, pm successfully\n",
      "Booking table 13 on Oct 15, 2024, am successfully\n",
      "Booking table 13 on Oct 15, 2024, pm successfully\n",
      "Booking table 13 on Oct 16, 2024, am successfully\n",
      "Booking table 13 on Oct 16, 2024, pm successfully\n",
      "Booking table 13 on Oct 21, 2024, am successfully\n",
      "Booking table 13 on Oct 21, 2024, pm successfully\n",
      "Booking table 13 on Oct 22, 2024, am successfully\n",
      "Booking table 13 on Oct 22, 2024, pm successfully\n",
      "Booking table 13 on Oct 23, 2024, am successfully\n",
      "Booking table 13 on Oct 23, 2024, pm successfully\n",
      "Booking table 13 on Oct 28, 2024, am successfully\n",
      "Booking table 13 on Oct 28, 2024, pm successfully\n",
      "Booking table 13 on Oct 29, 2024, am successfully\n",
      "Booking table 13 on Oct 29, 2024, pm successfully\n",
      "Booking table 13 on Oct 30, 2024, am successfully\n",
      "Booking table 13 on Oct 30, 2024, pm successfully\n",
      "Unable to book for Nov 4, 2024, am. Date not available for booking.\n",
      "Unable to book for Nov 4, 2024, pm. Date not available for booking.\n",
      "Unable to book for Nov 5, 2024, am. Date not available for booking.\n",
      "Unable to book for Nov 5, 2024, pm. Date not available for booking.\n",
      "Unable to book for Nov 6, 2024, am. Date not available for booking.\n",
      "Unable to book for Nov 6, 2024, pm. Date not available for booking.\n"
     ]
    },
    {
     "ename": "KeyboardInterrupt",
     "evalue": "",
     "output_type": "error",
     "traceback": [
      "\u001b[0;31m---------------------------------------------------------------------------\u001b[0m",
      "\u001b[0;31mKeyboardInterrupt\u001b[0m                         Traceback (most recent call last)",
      "Cell \u001b[0;32mIn[10], line 27\u001b[0m\n\u001b[1;32m     25\u001b[0m \u001b[38;5;28;01mfor\u001b[39;00m i \u001b[38;5;129;01min\u001b[39;00m \u001b[38;5;28mrange\u001b[39m(target_mth\u001b[38;5;241m-\u001b[39mmonth_text2no[current_month]):\n\u001b[1;32m     26\u001b[0m     driver\u001b[38;5;241m.\u001b[39mfind_element(By\u001b[38;5;241m.\u001b[39mCSS_SELECTOR,\u001b[38;5;124m'\u001b[39m\u001b[38;5;124mbutton[title=\u001b[39m\u001b[38;5;124m\"\u001b[39m\u001b[38;5;124mNext month\u001b[39m\u001b[38;5;124m\"\u001b[39m\u001b[38;5;124m]\u001b[39m\u001b[38;5;124m'\u001b[39m)\u001b[38;5;241m.\u001b[39msend_keys(Keys\u001b[38;5;241m.\u001b[39mRETURN)\n\u001b[0;32m---> 27\u001b[0m \u001b[43mtime\u001b[49m\u001b[38;5;241;43m.\u001b[39;49m\u001b[43msleep\u001b[49m\u001b[43m(\u001b[49m\u001b[38;5;241;43m0.75\u001b[39;49m\u001b[43m)\u001b[49m\n\u001b[1;32m     29\u001b[0m \u001b[38;5;28;01mtry\u001b[39;00m:\n\u001b[1;32m     30\u001b[0m     \u001b[38;5;66;03m# press the date\u001b[39;00m\n\u001b[1;32m     31\u001b[0m     driver\u001b[38;5;241m.\u001b[39mfind_element(By\u001b[38;5;241m.\u001b[39mCSS_SELECTOR,\u001b[38;5;124mf\u001b[39m\u001b[38;5;124m'\u001b[39m\u001b[38;5;124mbutton[aria-label=\u001b[39m\u001b[38;5;124m\"\u001b[39m\u001b[38;5;132;01m{\u001b[39;00mtarget_date\u001b[38;5;132;01m}\u001b[39;00m\u001b[38;5;124m\"\u001b[39m\u001b[38;5;124m]\u001b[39m\u001b[38;5;124m'\u001b[39m)\u001b[38;5;241m.\u001b[39msend_keys(Keys\u001b[38;5;241m.\u001b[39mRETURN)\n",
      "\u001b[0;31mKeyboardInterrupt\u001b[0m: "
     ]
    }
   ],
   "source": [
    "table = int(input(\"which table do you want to book?\"))\n",
    "startdate = input(\"Enter booking start date in this format Apr 1, 2024\")\n",
    "booking_dates = get_booking_dates(startdate)\n",
    "\n",
    "failed_dates = []\n",
    "for date in booking_dates[:]:\n",
    "    for ampm in ['am', 'pm']:\n",
    "        target_date = date\n",
    "        target_mth = shortmonth_text2no[target_date[:3]]\n",
    "\n",
    "        driver.get(\"https://xxx.com/Book-a-Space\")\n",
    "        time.sleep(1)\n",
    "        # click on Do some quiet work\n",
    "        driver.find_element(By.CSS_SELECTOR,'button[id=\"Do some quiet work\"]').send_keys(Keys.RETURN)\n",
    "        time.sleep(1)\n",
    "        # click on Next\n",
    "        driver.find_element(By.CSS_SELECTOR,'button[class*=\"w-full h-full py-4 px-5 txt-MontserratExtraBold\"]').send_keys(Keys.RETURN)\n",
    "        time.sleep(1)\n",
    "        # check current default month\n",
    "        current_month = driver.find_element(By.CSS_SELECTOR,'div[class*=\"css-1v994a0\"]').text\n",
    "        month_text2no[current_month]\n",
    "        time.sleep(0.5)\n",
    "\n",
    "        # press the next month button depending on how many times it is away from our target_mth\n",
    "        for i in range(target_mth-month_text2no[current_month]):\n",
    "            driver.find_element(By.CSS_SELECTOR,'button[title=\"Next month\"]').send_keys(Keys.RETURN)\n",
    "        time.sleep(0.75)\n",
    "\n",
    "        try:\n",
    "            # press the date\n",
    "            driver.find_element(By.CSS_SELECTOR,f'button[aria-label=\"{target_date}\"]').send_keys(Keys.RETURN)\n",
    "            time.sleep(0.5)\n",
    "            \n",
    "            # click on Next\n",
    "            driver.find_element(By.CSS_SELECTOR,'button[class*=\"w-full h-full py-4 px-5 txt-MontserratExtraBold\"]').send_keys(Keys.RETURN)\n",
    "            time.sleep(0.5)\n",
    "\n",
    "            # Select AM or PM time slot. \n",
    "            for time_slot in time_slots[ampm]:\n",
    "                selected_time_slot = driver.find_elements_by_xpath(f\"//*[contains(text(), '{time_slot}')]\")[0].send_keys(Keys.RETURN)\n",
    "            time.sleep(0.5)\n",
    "\n",
    "            # click on Next\n",
    "            driver.find_element(By.CSS_SELECTOR,'button[class*=\"w-full h-full py-4 px-5 txt-MontserratExtraBold\"]').send_keys(Keys.RETURN)\n",
    "            time.sleep(1.5)\n",
    "\n",
    "            # try selecting seat\n",
    "            try:\n",
    "                js_script = f\"\"\"\n",
    "                var stage = Konva.stages[0];  // Get the first Konva Stage\n",
    "\n",
    "                // Get the shape at the current position\n",
    "                var shape = stage.getIntersection({{x: {tables_cood[table][0]}, y: {tables_cood[table][1]}}});\n",
    "\n",
    "                if (shape) {{\n",
    "                    // Simulate a click on the shape\n",
    "                    shape.fire('click');\n",
    "                    // return \"Clicked at (\" + 160 + \", \" + 380 + \")\";\n",
    "                }}\n",
    "                \"\"\"\n",
    "                output = driver.execute_script(js_script)\n",
    "                time.sleep(1)\n",
    "\n",
    "                # click on Book\n",
    "                driver.find_element(By.CSS_SELECTOR,'button[class*=\"w-full h-full py-4 px-5 txt-MontserratExtraBold\"]').send_keys(Keys.RETURN)\n",
    "                time.sleep(1)\n",
    "\n",
    "                # Confirm booking by clicking on the 2nd button\n",
    "                driver.find_elements(By.CSS_SELECTOR,'button[class*=\"w-full h-full py-4 px-5 txt-MontserratExtraBold\"]')[1].send_keys(Keys.RETURN)\n",
    "                time.sleep(6)\n",
    "\n",
    "                # confirm\n",
    "                driver.find_elements(By.CSS_SELECTOR,'button[class*=\"w-full h-full py-4 px-5 txt-MontserratExtraBold\"]')[1].send_keys(Keys.RETURN)\n",
    "                time.sleep(1)\n",
    "                print(f\"Booking table {table} on {target_date}, {ampm} successfully\")\n",
    "            except:\n",
    "                print(f\"Unable to book for {target_date}, {ampm}. Table {table} not available for booking\")\n",
    "                failed_dates.append(target_date + ' ' + ampm)\n",
    "        \n",
    "        except:\n",
    "            print(f\"Unable to book for {target_date}, {ampm}. Date not available for booking.\")\n",
    "            failed_dates.append(target_date + ' ' + ampm)\n",
    "            pass"
   ]
  },
  {
   "cell_type": "code",
   "execution_count": null,
   "metadata": {},
   "outputs": [],
   "source": []
  }
 ],
 "metadata": {
  "kernelspec": {
   "display_name": "wotm-booking",
   "language": "python",
   "name": "python3"
  },
  "language_info": {
   "codemirror_mode": {
    "name": "ipython",
    "version": 3
   },
   "file_extension": ".py",
   "mimetype": "text/x-python",
   "name": "python",
   "nbconvert_exporter": "python",
   "pygments_lexer": "ipython3",
   "version": "3.10.13"
  },
  "orig_nbformat": 4
 },
 "nbformat": 4,
 "nbformat_minor": 2
}
